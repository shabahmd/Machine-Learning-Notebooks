{
  "nbformat": 4,
  "nbformat_minor": 0,
  "metadata": {
    "colab": {
      "provenance": [],
      "authorship_tag": "ABX9TyOTJgfGHhpN045pZmBLcTd+",
      "include_colab_link": true
    },
    "kernelspec": {
      "name": "python3",
      "display_name": "Python 3"
    },
    "language_info": {
      "name": "python"
    }
  },
  "cells": [
    {
      "cell_type": "markdown",
      "metadata": {
        "id": "view-in-github",
        "colab_type": "text"
      },
      "source": [
        "<a href=\"https://colab.research.google.com/github/shabahmd/Machine-Learning-Notebooks/blob/main/Keras_MNISt.ipynb\" target=\"_parent\"><img src=\"https://colab.research.google.com/assets/colab-badge.svg\" alt=\"Open In Colab\"/></a>"
      ]
    },
    {
      "cell_type": "code",
      "execution_count": 1,
      "metadata": {
        "colab": {
          "base_uri": "https://localhost:8080/"
        },
        "id": "KR7qsbWKP18v",
        "outputId": "6b6f1bea-5646-4d77-de22-61e48be8a060"
      },
      "outputs": [
        {
          "output_type": "stream",
          "name": "stdout",
          "text": [
            "Downloading digit-recognizer.zip to /content\n",
            " 33% 5.00M/15.3M [00:00<00:00, 40.2MB/s]\n",
            "100% 15.3M/15.3M [00:00<00:00, 95.1MB/s]\n"
          ]
        }
      ],
      "source": [
        "!mkdir ~/.kaggle\n",
        "\n",
        "\n",
        "\n",
        "!mv kaggle.json ~/.kaggle/\n",
        "\n",
        "\n",
        "\n",
        "!chmod 600 ~/.kaggle/kaggle.json\n",
        "\n",
        "\n",
        "\n",
        "!kaggle competitions download -c digit-recognizer\n",
        "\n"
      ]
    },
    {
      "cell_type": "code",
      "source": [
        "!unzip digit-recognizer.zip"
      ],
      "metadata": {
        "colab": {
          "base_uri": "https://localhost:8080/"
        },
        "id": "ezr1ApcfQQJQ",
        "outputId": "5d461076-ed40-4e6a-8625-0bda7e0a9de2"
      },
      "execution_count": 2,
      "outputs": [
        {
          "output_type": "stream",
          "name": "stdout",
          "text": [
            "Archive:  digit-recognizer.zip\n",
            "  inflating: sample_submission.csv   \n",
            "  inflating: test.csv                \n",
            "  inflating: train.csv               \n"
          ]
        }
      ]
    },
    {
      "cell_type": "code",
      "source": [
        "import numpy as np # linear algebra\n",
        "import pandas as pd # data processing, CSV file I/O (e.g. pd.read_csv)\n",
        "\n",
        "import matplotlib.pyplot as plt\n",
        "%matplotlib inline\n",
        "\n",
        "from keras.models import Sequential\n",
        "from keras.layers import Dense , Dropout , Lambda, Flatten\n",
        "from keras.optimizers import Adam ,RMSprop\n",
        "from sklearn.model_selection import train_test_split\n",
        "from keras import  backend as K\n",
        "\n",
        "# Input data files are available in the \"../input/\" directory.\n",
        "# For example, running this (by clicking run or pressing Shift+Enter) will list the files in the input directory\n",
        "\n",
        "from subprocess import check_output\n",
        "print(check_output([\"ls\", \"../input\"]).decode(\"utf8\"))\n",
        "\n"
      ],
      "metadata": {
        "colab": {
          "base_uri": "https://localhost:8080/",
          "height": 401
        },
        "id": "yk7ZL6wCQpIk",
        "outputId": "44faea6d-1237-4bd1-e309-944ea03098ea"
      },
      "execution_count": 3,
      "outputs": [
        {
          "output_type": "error",
          "ename": "ImportError",
          "evalue": "cannot import name 'ImageDataGenerator' from 'keras.preprocessing.image' (/usr/local/lib/python3.10/dist-packages/keras/api/preprocessing/image/__init__.py)",
          "traceback": [
            "\u001b[0;31m---------------------------------------------------------------------------\u001b[0m",
            "\u001b[0;31mImportError\u001b[0m                               Traceback (most recent call last)",
            "\u001b[0;32m<ipython-input-3-4d817139ac3c>\u001b[0m in \u001b[0;36m<cell line: 12>\u001b[0;34m()\u001b[0m\n\u001b[1;32m     10\u001b[0m \u001b[0;32mfrom\u001b[0m \u001b[0msklearn\u001b[0m\u001b[0;34m.\u001b[0m\u001b[0mmodel_selection\u001b[0m \u001b[0;32mimport\u001b[0m \u001b[0mtrain_test_split\u001b[0m\u001b[0;34m\u001b[0m\u001b[0;34m\u001b[0m\u001b[0m\n\u001b[1;32m     11\u001b[0m \u001b[0;32mfrom\u001b[0m \u001b[0mkeras\u001b[0m \u001b[0;32mimport\u001b[0m  \u001b[0mbackend\u001b[0m \u001b[0;32mas\u001b[0m \u001b[0mK\u001b[0m\u001b[0;34m\u001b[0m\u001b[0;34m\u001b[0m\u001b[0m\n\u001b[0;32m---> 12\u001b[0;31m \u001b[0;32mfrom\u001b[0m \u001b[0mkeras\u001b[0m\u001b[0;34m.\u001b[0m\u001b[0mpreprocessing\u001b[0m\u001b[0;34m.\u001b[0m\u001b[0mimage\u001b[0m \u001b[0;32mimport\u001b[0m \u001b[0mImageDataGenerator\u001b[0m\u001b[0;34m\u001b[0m\u001b[0;34m\u001b[0m\u001b[0m\n\u001b[0m\u001b[1;32m     13\u001b[0m \u001b[0;34m\u001b[0m\u001b[0m\n\u001b[1;32m     14\u001b[0m \u001b[0;31m# Input data files are available in the \"../input/\" directory.\u001b[0m\u001b[0;34m\u001b[0m\u001b[0;34m\u001b[0m\u001b[0m\n",
            "\u001b[0;31mImportError\u001b[0m: cannot import name 'ImageDataGenerator' from 'keras.preprocessing.image' (/usr/local/lib/python3.10/dist-packages/keras/api/preprocessing/image/__init__.py)",
            "",
            "\u001b[0;31m---------------------------------------------------------------------------\u001b[0;32m\nNOTE: If your import is failing due to a missing package, you can\nmanually install dependencies using either !pip or !apt.\n\nTo view examples of installing some common dependencies, click the\n\"Open Examples\" button below.\n\u001b[0;31m---------------------------------------------------------------------------\u001b[0m\n"
          ],
          "errorDetails": {
            "actions": [
              {
                "action": "open_url",
                "actionText": "Open Examples",
                "url": "/notebooks/snippets/importing_libraries.ipynb"
              }
            ]
          }
        }
      ]
    },
    {
      "cell_type": "code",
      "source": [
        "train_df = pd.read_csv(\"train.csv\")\n",
        "test_df = pd.read_csv('test.csv')"
      ],
      "metadata": {
        "id": "340SEEMQQfp6"
      },
      "execution_count": 10,
      "outputs": []
    },
    {
      "cell_type": "markdown",
      "source": [
        "# Make predictions on the test set\n"
      ],
      "metadata": {
        "id": "V8g99RWlZd-V"
      }
    },
    {
      "cell_type": "code",
      "source": [
        "test_predictions = model.predict(X_test)\n",
        "test_predictions = np.argmax(test_predictions, axis=1)\n"
      ],
      "metadata": {
        "colab": {
          "base_uri": "https://localhost:8080/"
        },
        "id": "S-fwwFMlZbyv",
        "outputId": "1a901db7-1661-40db-98ef-378bc175d994"
      },
      "execution_count": 26,
      "outputs": [
        {
          "output_type": "stream",
          "name": "stdout",
          "text": [
            "\u001b[1m875/875\u001b[0m \u001b[32m━━━━━━━━━━━━━━━━━━━━\u001b[0m\u001b[37m\u001b[0m \u001b[1m1s\u001b[0m 1ms/step\n"
          ]
        }
      ]
    },
    {
      "cell_type": "markdown",
      "source": [
        "# Prepare the submission file\n"
      ],
      "metadata": {
        "id": "yWgY_PceZgi_"
      }
    },
    {
      "cell_type": "code",
      "source": [
        "sample_submission = pd.read_csv('sample_submission.csv')\n"
      ],
      "metadata": {
        "id": "l5dLBktlZpKg"
      },
      "execution_count": 24,
      "outputs": []
    },
    {
      "cell_type": "code",
      "source": [
        "sample_submission['Label'] = test_predictions\n",
        "sample_submission.to_csv('submission.csv', index=False)\n",
        "\n",
        "print(\"Submission file created: submission.csv\")\n"
      ],
      "metadata": {
        "colab": {
          "base_uri": "https://localhost:8080/"
        },
        "id": "rMAM_SzZZhTi",
        "outputId": "b8fdb04f-f42c-4421-cf9d-23a0422075c1"
      },
      "execution_count": 27,
      "outputs": [
        {
          "output_type": "stream",
          "name": "stdout",
          "text": [
            "Submission file created: submission.csv\n"
          ]
        }
      ]
    },
    {
      "cell_type": "code",
      "source": [
        "print(train_df.shape)  # Check train data shape (e.g., 42000, 785)\n",
        "print(test_df.shape)   # Check test data shape (e.g., 28000, 784)\n"
      ],
      "metadata": {
        "colab": {
          "base_uri": "https://localhost:8080/"
        },
        "id": "gFe52HR3Zi8i",
        "outputId": "f90e2f6a-210a-435b-eff0-9ef36da7b411"
      },
      "execution_count": 28,
      "outputs": [
        {
          "output_type": "stream",
          "name": "stdout",
          "text": [
            "(42000, 785)\n",
            "(28000, 784)\n"
          ]
        }
      ]
    },
    {
      "cell_type": "markdown",
      "source": [
        "# Split train data into X (features) and y (target)\n"
      ],
      "metadata": {
        "id": "VdkNKY7kZzIR"
      }
    },
    {
      "cell_type": "code",
      "source": [
        "X_train = train_df.drop('label', axis=1).values  # Drop 'label' to get pixel values\n",
        "y_train = train_df['label'].values  # Extract labels\n"
      ],
      "metadata": {
        "id": "w2BIZZdTZw4f"
      },
      "execution_count": 29,
      "outputs": []
    },
    {
      "cell_type": "markdown",
      "source": [
        "# Normalize the pixel values to the range [0, 1]\n"
      ],
      "metadata": {
        "id": "ZxoaRvl1Z2Ot"
      }
    },
    {
      "cell_type": "code",
      "source": [
        "X_train = X_train / 255.0\n",
        "X_test = test_df.values / 255.0\n"
      ],
      "metadata": {
        "id": "LqDFbJ-bZ04r"
      },
      "execution_count": 30,
      "outputs": []
    },
    {
      "cell_type": "markdown",
      "source": [
        "# Reshape the input to be 28x28x1 (height, width, channels) for CNN or keep as 784 for dense layers\n"
      ],
      "metadata": {
        "id": "Ch0DxwChZ5oP"
      }
    },
    {
      "cell_type": "code",
      "source": [
        "\n",
        "X_train = X_train.reshape(X_train.shape[0], 28, 28, 1)\n",
        "X_test = X_test.reshape(X_test.shape[0], 28, 28, 1)\n",
        "\n"
      ],
      "metadata": {
        "id": "OtWOaR8iZ5QF"
      },
      "execution_count": 31,
      "outputs": []
    },
    {
      "cell_type": "markdown",
      "source": [
        "# One-hot encode the labels (since we have 10 classes, digits 0-9)\n"
      ],
      "metadata": {
        "id": "ZUu9EJLzZ-j0"
      }
    },
    {
      "cell_type": "code",
      "source": [
        "y_train = to_categorical(y_train, 10)\n"
      ],
      "metadata": {
        "id": "m5i-l4uMZ3tv"
      },
      "execution_count": 32,
      "outputs": []
    },
    {
      "cell_type": "markdown",
      "source": [
        "# Build the model\n"
      ],
      "metadata": {
        "id": "VRDaLTBzaBrg"
      }
    },
    {
      "cell_type": "code",
      "source": [
        "model = Sequential()\n"
      ],
      "metadata": {
        "id": "zu95fZVIaADO"
      },
      "execution_count": 33,
      "outputs": []
    },
    {
      "cell_type": "markdown",
      "source": [
        "# Flatten the 28x28 images into a vector of size 784\n"
      ],
      "metadata": {
        "id": "ZJdPm0_9aEo4"
      }
    },
    {
      "cell_type": "markdown",
      "source": [],
      "metadata": {
        "id": "_ZGFKoDNaEmD"
      }
    },
    {
      "cell_type": "code",
      "source": [
        "model.add(Flatten(input_shape=(28, 28, 1)))\n"
      ],
      "metadata": {
        "colab": {
          "base_uri": "https://localhost:8080/"
        },
        "id": "6lGGGgvRaDPe",
        "outputId": "b43f59fc-c9ba-4e21-f3d8-c2a612e7c1a4"
      },
      "execution_count": 34,
      "outputs": [
        {
          "output_type": "stream",
          "name": "stderr",
          "text": [
            "/usr/local/lib/python3.10/dist-packages/keras/src/layers/reshaping/flatten.py:37: UserWarning: Do not pass an `input_shape`/`input_dim` argument to a layer. When using Sequential models, prefer using an `Input(shape)` object as the first layer in the model instead.\n",
            "  super().__init__(**kwargs)\n"
          ]
        }
      ]
    },
    {
      "cell_type": "markdown",
      "source": [
        "# Add fully connected layers\n"
      ],
      "metadata": {
        "id": "M93YYOOmaIQK"
      }
    },
    {
      "cell_type": "code",
      "source": [
        "model.add(Dense(128, activation='relu'))\n",
        "model.add(Dense(64, activation='relu'))\n"
      ],
      "metadata": {
        "id": "8yJpzoJaaGa5"
      },
      "execution_count": 35,
      "outputs": []
    },
    {
      "cell_type": "markdown",
      "source": [
        "# Output layer with 10 neurons (one for each digit) and softmax activation\n"
      ],
      "metadata": {
        "id": "4BQXrxvEaLTR"
      }
    },
    {
      "cell_type": "code",
      "source": [
        "model.add(Dense(10, activation='softmax'))\n"
      ],
      "metadata": {
        "id": "jYPQeBw7aJ8f"
      },
      "execution_count": 36,
      "outputs": []
    },
    {
      "cell_type": "markdown",
      "source": [
        "# Compile the model\n"
      ],
      "metadata": {
        "id": "tUXD0vDjaNpR"
      }
    },
    {
      "cell_type": "code",
      "source": [
        "model.compile(optimizer='adam', loss='categorical_crossentropy', metrics=['accuracy'])\n"
      ],
      "metadata": {
        "id": "Suy_O6C3aMig"
      },
      "execution_count": 37,
      "outputs": []
    },
    {
      "cell_type": "markdown",
      "source": [
        "# Train the model\n"
      ],
      "metadata": {
        "id": "0vljdcp7aRLg"
      }
    },
    {
      "cell_type": "code",
      "source": [
        "history = model.fit(X_train, y_train, epochs=10, batch_size=128, validation_split=0.2, verbose=2)\n"
      ],
      "metadata": {
        "colab": {
          "base_uri": "https://localhost:8080/"
        },
        "id": "OmJnpYDwaPUz",
        "outputId": "0cab7830-b3c1-4081-f91b-e8f62148db0f"
      },
      "execution_count": 38,
      "outputs": [
        {
          "output_type": "stream",
          "name": "stdout",
          "text": [
            "Epoch 1/10\n",
            "263/263 - 2s - 9ms/step - accuracy: 0.8726 - loss: 0.4561 - val_accuracy: 0.9415 - val_loss: 0.2072\n",
            "Epoch 2/10\n",
            "263/263 - 2s - 9ms/step - accuracy: 0.9495 - loss: 0.1699 - val_accuracy: 0.9564 - val_loss: 0.1399\n",
            "Epoch 3/10\n",
            "263/263 - 1s - 5ms/step - accuracy: 0.9660 - loss: 0.1188 - val_accuracy: 0.9650 - val_loss: 0.1164\n",
            "Epoch 4/10\n",
            "263/263 - 2s - 9ms/step - accuracy: 0.9736 - loss: 0.0912 - val_accuracy: 0.9656 - val_loss: 0.1079\n",
            "Epoch 5/10\n",
            "263/263 - 1s - 5ms/step - accuracy: 0.9787 - loss: 0.0712 - val_accuracy: 0.9712 - val_loss: 0.0945\n",
            "Epoch 6/10\n",
            "263/263 - 2s - 6ms/step - accuracy: 0.9834 - loss: 0.0560 - val_accuracy: 0.9737 - val_loss: 0.0895\n",
            "Epoch 7/10\n",
            "263/263 - 3s - 10ms/step - accuracy: 0.9869 - loss: 0.0455 - val_accuracy: 0.9708 - val_loss: 0.0963\n",
            "Epoch 8/10\n",
            "263/263 - 2s - 7ms/step - accuracy: 0.9904 - loss: 0.0348 - val_accuracy: 0.9744 - val_loss: 0.0853\n",
            "Epoch 9/10\n",
            "263/263 - 1s - 5ms/step - accuracy: 0.9927 - loss: 0.0272 - val_accuracy: 0.9737 - val_loss: 0.0865\n",
            "Epoch 10/10\n",
            "263/263 - 1s - 5ms/step - accuracy: 0.9942 - loss: 0.0221 - val_accuracy: 0.9736 - val_loss: 0.0922\n"
          ]
        }
      ]
    },
    {
      "cell_type": "markdown",
      "source": [
        "# Make predictions on the test set\n"
      ],
      "metadata": {
        "id": "u6JU9sAyaUr8"
      }
    },
    {
      "cell_type": "code",
      "source": [
        "test_predictions = model.predict(X_test)\n",
        "test_predictions = np.argmax(test_predictions, axis=1)\n"
      ],
      "metadata": {
        "colab": {
          "base_uri": "https://localhost:8080/"
        },
        "id": "VXpB8W60aTTD",
        "outputId": "b956fc9e-e476-4203-b53c-fb9020f60c8f"
      },
      "execution_count": 39,
      "outputs": [
        {
          "output_type": "stream",
          "name": "stdout",
          "text": [
            "\u001b[1m875/875\u001b[0m \u001b[32m━━━━━━━━━━━━━━━━━━━━\u001b[0m\u001b[37m\u001b[0m \u001b[1m1s\u001b[0m 1ms/step\n"
          ]
        }
      ]
    },
    {
      "cell_type": "markdown",
      "source": [
        "# Prepare the submission file\n"
      ],
      "metadata": {
        "id": "4rQCoPP0aYc1"
      }
    },
    {
      "cell_type": "code",
      "source": [
        "sample_submission['Label'] = test_predictions\n",
        "sample_submission.to_csv('submission.csv', index=False)\n",
        "\n",
        "print(\"Submission file created: submission.csv\")\n"
      ],
      "metadata": {
        "colab": {
          "base_uri": "https://localhost:8080/"
        },
        "id": "LKU6s73caWgE",
        "outputId": "aff48f48-1dba-44c6-eb5c-e75346a2f572"
      },
      "execution_count": 40,
      "outputs": [
        {
          "output_type": "stream",
          "name": "stdout",
          "text": [
            "Submission file created: submission.csv\n"
          ]
        }
      ]
    },
    {
      "cell_type": "markdown",
      "source": [
        "\n",
        "# Plot training & validation accuracy values\n"
      ],
      "metadata": {
        "id": "3lPaos_uadtX"
      }
    },
    {
      "cell_type": "code",
      "source": [
        "plt.plot(history.history['accuracy'])\n",
        "plt.plot(history.history['val_accuracy'])\n",
        "plt.title('Model accuracy')\n",
        "plt.ylabel('Accuracy')\n",
        "plt.xlabel('Epoch')\n",
        "plt.legend(['Train', 'Test'], loc='upper left')\n",
        "plt.show()\n"
      ],
      "metadata": {
        "colab": {
          "base_uri": "https://localhost:8080/",
          "height": 472
        },
        "id": "Utm7srdcabzj",
        "outputId": "0b0b628a-9de4-4fab-df75-ff26e95001e3"
      },
      "execution_count": 41,
      "outputs": [
        {
          "output_type": "display_data",
          "data": {
            "text/plain": [
              "<Figure size 640x480 with 1 Axes>"
            ],
            "image/png": "[encoded data removed]"
          },
          "metadata": {}
        }
      ]
    },
    {
      "cell_type": "markdown",
      "source": [
        "# Plot training & validation loss values\n"
      ],
      "metadata": {
        "id": "-Ic2N1FfaiL7"
      }
    },
    {
      "cell_type": "code",
      "source": [
        "plt.plot(history.history['loss'])\n",
        "plt.plot(history.history['val_loss'])\n",
        "plt.title('Model loss')\n",
        "plt.ylabel('Loss')\n",
        "plt.xlabel('Epoch')\n",
        "plt.legend(['Train', 'Test'], loc='upper left')\n",
        "plt.show()\n"
      ],
      "metadata": {
        "colab": {
          "base_uri": "https://localhost:8080/",
          "height": 472
        },
        "id": "aVY5JIGTafJc",
        "outputId": "844dcbc7-feda-4c85-b721-dad74a960916"
      },
      "execution_count": 42,
      "outputs": [
        {
          "output_type": "display_data",
          "data": {
            "text/plain": [
              "<Figure size 640x480 with 1 Axes>"
            ],
            "image/png": "[encoded data removed]"
          },
          "metadata": {}
        }
      ]
    },
    {
      "cell_type": "code",
      "source": [
        "!kaggle competitions submit -c digit-recognizer -f submission.csv -m \"First submission for kaggle digit recognition\""
      ],
      "metadata": {
        "colab": {
          "base_uri": "https://localhost:8080/"
        },
        "id": "jqDzMI8Fajz4",
        "outputId": "85c013ca-fd00-4858-9d43-d650858acea3"
      },
      "execution_count": 43,
      "outputs": [
        {
          "output_type": "stream",
          "name": "stdout",
          "text": [
            "100% 208k/208k [00:00<00:00, 350kB/s]\n",
            "Successfully submitted to Digit Recognizer"
          ]
        }
      ]
    },
    {
      "cell_type": "code",
      "source": [],
      "metadata": {
        "id": "GfCDpcmbbX5j"
      },
      "execution_count": null,
      "outputs": []
    }
  ]
}