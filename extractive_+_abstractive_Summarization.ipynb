{
  "nbformat": 4,
  "nbformat_minor": 0,
  "metadata": {
    "colab": {
      "provenance": [],
      "authorship_tag": "ABX9TyMExQEtHuIfckSZDAeO0ukt",
      "include_colab_link": true
    },
    "kernelspec": {
      "name": "python3",
      "display_name": "Python 3"
    },
    "language_info": {
      "name": "python"
    }
  },
  "cells": [
    {
      "cell_type": "markdown",
      "metadata": {
        "id": "view-in-github",
        "colab_type": "text"
      },
      "source": [
        "<a href=\"https://colab.research.google.com/github/shabahmd/Machine-Learning-Notebooks/blob/main/extractive_%2B_abstractive_Summarization.ipynb\" target=\"_parent\"><img src=\"https://colab.research.google.com/assets/colab-badge.svg\" alt=\"Open In Colab\"/></a>"
      ]
    },
    {
      "cell_type": "code",
      "source": [
        "%%capture\n",
        "!pip install sumy\n",
        "from sumy.parsers.plaintext import PlaintextParser\n",
        "from sumy.nlp.tokenizers import Tokenizer\n",
        "from sumy.summarizers.lsa import LsaSummarizer\n"
      ],
      "metadata": {
        "id": "ql6K0bsSyGF8"
      },
      "execution_count": 38,
      "outputs": []
    },
    {
      "cell_type": "code",
      "source": [
        "\n",
        "# Sample text\n",
        "text = \"\"\"\n",
        "\n",
        "n my previous article about Vulnerability in Relationships, I bashed using teasing/banter as a basis for demonstrating sexual interest. I referred to it as “a horrible mindset” and implied it was dishonest.\n",
        "\n",
        "As usual, whenever I turn my nose up to this type of flirting someone always chimes in and says, “Aw, come on Mark, it’s harmless flirting. Why are you being so hard on it?” Some people even get upset, saying they “love” the verbal sparring that comes with this type of sexual interaction. They even get angry sometimes, like I just pissed on their dog or something.\n",
        "\n",
        "But the reason I’m hard on derogatory flirting is because it’s a shitty way to instigate a sexual relationship. Fact.\n",
        "\n",
        "Some people love the teasing and the innuendo and the “hard to get” stuff and the verbal sparring and the never-ending competition for dominance. These are usually the same people that are complaining that they can’t find a high quality man/woman and will bore you with calamitous break-up story after calamitous break-up story at the drop of a hat. Cry me a river.\n",
        "\n",
        "Derogatory flirting sucks because it muddies the waters of intention and emotion, possibly the two most crucial components of a healthy sexual relationship (both short-term and long-term).\n",
        "\n",
        "In derogatory flirting, you’re never quite sure of what the other one is feeling or meaning, and often you lose track what you feel or mean yourself. It’s designed that way. It distorts sexual interest, undermines consent, needles the other person into being insecure around you, and not to mention is absolutely exhausting to keep up.\n",
        "\n",
        "Pretending you like her less than you do so that she’ll like you more than she says she does so you can then like her more than you say you do so she feels comfortable liking you back more than she says she does — I’m exhausted just writing about it.\n",
        "\n",
        "But it also tees you up for future headaches. A number of people asked in regards to the previous article, “What if she’s manipulative but you just don’t find out until much later?”\n",
        "\n",
        "That’s the problem. With derogatory flirting you don’t really see what the other person is made of until way down the road, often after it’s too late to get away without getting your face scratched. You could be going to bed with the most psychologically fucked person and have no idea. And for those of you just looking for a good time, this form of flirting is what creates that gnawing sense of having to constantly convince or even trick someone into sleeping with you. It’s not fun.\n",
        "\n",
        "When you attract through honesty and vulnerability, you find out who you’re dealing with early on: their values, their intentions, their comfort level with their own sexuality, their beliefs about men/women and sex. You can screen these manipulative people out within the first couple minutes. You can also judge basic sexual compatibility within a couple hours. You never have to feel like you’re coercing anyone into sleeping with you. Since you’ve already been so open about your beliefs and intentions, a simple, “Let’s go to my place,” doesn’t seem out of line or inappropriate at all. It seems like a reasonable question and a logical next step in the interaction.\n",
        "\n",
        "English-speaking culture is unique in that rejected displays of sexual intention are seen as shameful. I believe this is the root of our bizarre flirting behaviors. A failed sexual pass at someone is grounds to be shamed and humiliated by our peers and society at large. This has been inculcated in us from a very early age.\n",
        "\n",
        "(Note: By English-speaking cultures, I mean former English colonies and to a lesser extent Scandanavian countries.)\n",
        "\n",
        "It’s important to understand the difference between shame and embarrassment or shame and guilt. Embarrassment is a temporary negative state due to an external situation. Guilt is the judgment of an action or external situation as bad or wrong.\n",
        "\n",
        "But shame is an actual judgment of character. If you feel guilty about doing something, it’s the action that is deemed wrong or incorrect, not you. But if you’re shamed about doing something, it’s you that is deemed wrong or incorrect.\n",
        "\n",
        "\n",
        "\"\"\"\n",
        "\n",
        "parser = PlaintextParser.from_string(text, Tokenizer(\"english\"))\n",
        "summarizer = LsaSummarizer()\n",
        "\n",
        "# Perform extractive summarization\n",
        "summary = summarizer(parser.document, 3) # Number of sentences in the summary\n",
        "print(\"Extractive Summary:\")\n",
        "for sentence in summary:\n",
        "    print(sentence)"
      ],
      "metadata": {
        "colab": {
          "base_uri": "https://localhost:8080/"
        },
        "id": "zI-mw0NJoDNP",
        "outputId": "c392a729-9ca1-4e5d-cef9-203848e3073c"
      },
      "execution_count": 39,
      "outputs": [
        {
          "output_type": "stream",
          "name": "stdout",
          "text": [
            "Extractive Summary:\n",
            "Why are you being so hard on it?” Some people even get upset, saying they “love” the verbal sparring that comes with this type of sexual interaction.\n",
            "A number of people asked in regards to the previous article, “What if she’s manipulative but you just don’t find out until much later?”\n",
            "Since you’ve already been so open about your beliefs and intentions, a simple, “Let’s go to my place,” doesn’t seem out of line or inappropriate at all.\n"
          ]
        }
      ]
    },
    {
      "cell_type": "code",
      "source": [
        "import nltk\n",
        "nltk.download('punkt')\n"
      ],
      "metadata": {
        "colab": {
          "base_uri": "https://localhost:8080/"
        },
        "id": "X4Ps7ifzpD6c",
        "outputId": "6a12c793-68de-4e38-ccdf-11cb79a42410"
      },
      "execution_count": 40,
      "outputs": [
        {
          "output_type": "stream",
          "name": "stderr",
          "text": [
            "[nltk_data] Downloading package punkt to /root/nltk_data...\n",
            "[nltk_data]   Package punkt is already up-to-date!\n"
          ]
        },
        {
          "output_type": "execute_result",
          "data": {
            "text/plain": [
              "True"
            ]
          },
          "metadata": {},
          "execution_count": 40
        }
      ]
    },
    {
      "cell_type": "markdown",
      "source": [
        "### Abstractive Summarization with Hugging Face (BART or T5)\n",
        "\n"
      ],
      "metadata": {
        "id": "LpyrDyP73TjL"
      }
    },
    {
      "cell_type": "code",
      "source": [
        "%%capture\n",
        "pip install transformers\n"
      ],
      "metadata": {
        "id": "ReddTcZi3RYe"
      },
      "execution_count": 41,
      "outputs": []
    },
    {
      "cell_type": "code",
      "source": [
        "from transformers import BartForConditionalGeneration, BartTokenizer\n",
        "\n",
        "model = BartForConditionalGeneration.from_pretrained('facebook/bart-large-cnn')\n",
        "tokenizer = BartTokenizer.from_pretrained('facebook/bart-large-cnn')\n",
        "\n"
      ],
      "metadata": {
        "colab": {
          "base_uri": "https://localhost:8080/"
        },
        "id": "5CSP01pDtW5b",
        "outputId": "9dd71561-d16c-4114-bb40-bc89b6c2f1af"
      },
      "execution_count": 42,
      "outputs": [
        {
          "output_type": "stream",
          "name": "stderr",
          "text": [
            "/usr/local/lib/python3.10/dist-packages/transformers/tokenization_utils_base.py:1601: FutureWarning: `clean_up_tokenization_spaces` was not set. It will be set to `True` by default. This behavior will be depracted in transformers v4.45, and will be then set to `False` by default. For more details check this issue: https://github.com/huggingface/transformers/issues/31884\n",
            "  warnings.warn(\n"
          ]
        }
      ]
    },
    {
      "cell_type": "code",
      "source": [
        "text = \"\"\"\n",
        "Natural language processing (NLP) is a sub-field of artificial intelligence (AI) focused on the interaction between computers and humans through natural language.\n",
        "The ultimate objective of NLP is to enable computers to understand, interpret, and generate human language in a way that is valuable. NLP techniques have been widely applied to machine translation, sentiment analysis, chatbots, and more.\n",
        "Today, NLP is a critical technology as it's the backbone of many advanced AI applications.\n",
        "Researchers have made significant progress in recent years, thanks to the rise of deep learning and large-scale datasets. State-of-the-art models like BERT, GPT, and T5 have demonstrated near-human performance on many NLP tasks.\n",
        "\"\"\"\n",
        "\n",
        "inputs = tokenizer([text], max_length=1024, return_tensors='pt', truncation=True)\n",
        "\n",
        "summary_ids = model.generate(inputs['input_ids'], num_beams=4, max_length=150, early_stopping=True)\n",
        "summary = tokenizer.decode(summary_ids[0], skip_special_tokens=True)\n",
        "\n",
        "print(\"Abstractive Summary:\")\n",
        "print(summary)\n"
      ],
      "metadata": {
        "id": "fAwKsi-S4SDL",
        "colab": {
          "base_uri": "https://localhost:8080/"
        },
        "outputId": "cde2e846-222c-49d1-e1d4-411ae6a5ee0c"
      },
      "execution_count": 43,
      "outputs": [
        {
          "output_type": "stream",
          "name": "stdout",
          "text": [
            "Abstractive Summary:\n",
            "Natural language processing (NLP) is a sub-field of artificial intelligence (AI) focused on the interaction between computers and humans through natural language. NLP techniques have been widely applied to machine translation, sentiment analysis, chatbots, and more. Today, NLP is a critical technology as it's the backbone of many advanced AI applications.\n"
          ]
        }
      ]
    },
    {
      "cell_type": "markdown",
      "source": [
        "T5 (Text-To-Text Transfer Transformer)"
      ],
      "metadata": {
        "id": "VYquXjWd7pJl"
      }
    },
    {
      "cell_type": "code",
      "source": [
        "from transformers import T5Tokenizer, T5ForConditionalGeneration\n",
        "\n",
        "t5_model = T5ForConditionalGeneration.from_pretrained('t5-base')\n",
        "t5_tokenizer = T5Tokenizer.from_pretrained('t5-base')\n",
        "\n",
        "text = \"summarize: \" + text\n",
        "\n",
        "inputs = t5_tokenizer.encode(text, return_tensors='pt', max_length=512, truncation=True)\n",
        "\n",
        "summary_ids = t5_model.generate(inputs, max_length=150, num_beams=2, length_penalty=2.0, early_stopping=True)\n",
        "summary = t5_tokenizer.decode(summary_ids[0], skip_special_tokens=True)\n",
        "\n",
        "print(\"T5 Abstractive Summary:\")\n",
        "print(summary)\n"
      ],
      "metadata": {
        "colab": {
          "base_uri": "https://localhost:8080/"
        },
        "id": "rYmpGASV8wXd",
        "outputId": "e2b3ce9c-2470-44de-9b54-bf97b154d144"
      },
      "execution_count": 44,
      "outputs": [
        {
          "output_type": "stream",
          "name": "stdout",
          "text": [
            "T5 Abstractive Summary:\n",
            "natural language processing (NLP) is a sub-field of artificial intelligence (AI) it's the backbone of many advanced AI applications.\n"
          ]
        }
      ]
    },
    {
      "cell_type": "code",
      "source": [
        "%%capture\n",
        "pip install rouge-score\n"
      ],
      "metadata": {
        "id": "lQvnuwgx96dg"
      },
      "execution_count": 45,
      "outputs": []
    },
    {
      "cell_type": "code",
      "source": [
        "from rouge_score import rouge_scorer\n",
        "\n",
        "scorer = rouge_scorer.RougeScorer(['rouge1', 'rougeL'], use_stemmer=True)\n",
        "scores = scorer.score(text, summary)\n",
        "print(scores)\n"
      ],
      "metadata": {
        "colab": {
          "base_uri": "https://localhost:8080/"
        },
        "id": "wStm3K2H-Dd6",
        "outputId": "b3916669-e1e1-419a-b3ba-448880ef1d55"
      },
      "execution_count": 46,
      "outputs": [
        {
          "output_type": "stream",
          "name": "stdout",
          "text": [
            "{'rouge1': Score(precision=1.0, recall=0.18421052631578946, fmeasure=0.3111111111111111), 'rougeL': Score(precision=1.0, recall=0.18421052631578946, fmeasure=0.3111111111111111)}\n"
          ]
        }
      ]
    },
    {
      "cell_type": "code",
      "source": [
        "%%capture\n",
        "!pip install flask-ngrok transformers torch\n"
      ],
      "metadata": {
        "id": "YtbdrTJX-ImV"
      },
      "execution_count": 47,
      "outputs": []
    },
    {
      "cell_type": "code",
      "source": [
        "from transformers import T5Tokenizer, T5ForConditionalGeneration\n",
        "\n",
        "# Load T5 model and tokenizer\n",
        "model = T5ForConditionalGeneration.from_pretrained('t5-base')\n",
        "tokenizer = T5Tokenizer.from_pretrained('t5-base')\n"
      ],
      "metadata": {
        "id": "YuEIpiEmCahY"
      },
      "execution_count": 48,
      "outputs": []
    }
  ]
}